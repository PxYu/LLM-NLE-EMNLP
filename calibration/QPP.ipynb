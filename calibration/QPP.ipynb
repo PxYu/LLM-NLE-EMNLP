{
 "cells": [
  {
   "cell_type": "code",
   "execution_count": 1,
   "id": "60d45d48-5ef0-402b-9d88-cc99b6da0180",
   "metadata": {
    "tags": []
   },
   "outputs": [],
   "source": [
    "import pickle\n",
    "from sklearn.metrics import ndcg_score\n",
    "import numpy as np\n",
    "from scipy.stats import pearsonr, kendalltau, spearmanr"
   ]
  },
  {
   "cell_type": "code",
   "execution_count": 2,
   "id": "d55e2ec1-8e6d-4dd6-aa48-99e1750c105f",
   "metadata": {},
   "outputs": [
    {
     "name": "stdout",
     "output_type": "stream",
     "text": [
      "217\n"
     ]
    }
   ],
   "source": [
    "import json\n",
    "\n",
    "id2query = {}\n",
    "\n",
    "# Open the JSONL file\n",
    "with open('processed_data/merged_trec.jsonl', 'r') as file:\n",
    "    # Iterate over each line\n",
    "    for line in file:\n",
    "        # Convert line to JSON\n",
    "        data = json.loads(line)\n",
    "        qid, qtext = data['qid'], data['query_text']\n",
    "        if qid not in id2query:\n",
    "            id2query[qid] = qtext\n",
    "            \n",
    "print(len(id2query))"
   ]
  },
  {
   "cell_type": "code",
   "execution_count": 3,
   "id": "b24429f0-5feb-4a7e-91df-54d8caf779c5",
   "metadata": {
    "tags": []
   },
   "outputs": [],
   "source": [
    "def WIG(qtokens, score_list, k):\n",
    "    corpus_score = np.mean(score_list)\n",
    "    wig_norm = (np.mean(score_list[:k]) - corpus_score)/ np.sqrt(len(qtokens))\n",
    "    wig_no_norm = np.mean(score_list[:k]) / np.sqrt(len(qtokens))\n",
    "\n",
    "    return wig_norm, wig_no_norm\n",
    "\n",
    "\n",
    "def NQC(score_list, k):\n",
    "    corpus_score = np.mean(score_list)\n",
    "    nqc_norm = np.std(score_list[:k]) / corpus_score\n",
    "    nqc_no_norm = np.std(score_list[:k])\n",
    "\n",
    "    return nqc_norm, nqc_no_norm"
   ]
  },
  {
   "cell_type": "code",
   "execution_count": 19,
   "id": "506199a6-831d-407b-baa5-a1883b217a51",
   "metadata": {
    "tags": []
   },
   "outputs": [
    {
     "name": "stdout",
     "output_type": "stream",
     "text": [
      "0.5244204480654114\n",
      "Pearson's: 0.063; Kendall's: 0.104; Spearman's: 0.139\n",
      "Pearson's: 0.182; Kendall's: 0.112; Spearman's: 0.168\n",
      "Pearson's: 0.075; Kendall's: 0.048; Spearman's: 0.077\n",
      "Pearson's: 0.164; Kendall's: 0.114; Spearman's: 0.161\n"
     ]
    }
   ],
   "source": [
    "# literal_explanation\n",
    "\n",
    "with open(\"wandb/run-20240613_135457-un82bbx0/files/test_results_ep4.pkl\", 'rb') as fin:\n",
    "    run = pickle.load(fin)\n",
    "\n",
    "preds, labels, qids = run['predictions'], run['labels'], run['qids']\n",
    "dct = {}\n",
    "\n",
    "for p, l, q in zip(preds, labels, qids):\n",
    "    if q not in dct:\n",
    "        dct[q] = {\n",
    "            \"preds\": [],\n",
    "            \"labels\": []\n",
    "        }\n",
    "    dct[q]['preds'].append(p[0])\n",
    "    dct[q]['labels'].append(l[0])\n",
    "    \n",
    "test_qids = set(dct.keys())\n",
    "    \n",
    "ndcg10s = []\n",
    "wig_norms, wig_no_norms = [], []\n",
    "nqc_norms, nqc_no_norms = [], []\n",
    "\n",
    "for q, d in dct.items():\n",
    "    \n",
    "    qtokens = id2query[q].split()\n",
    "    score_list = sorted(d['preds'], reverse=True)\n",
    "    \n",
    "    wig_norm, wig_no_norm = WIG(qtokens, score_list, 10)\n",
    "    nqc_norm, nqc_no_norm = NQC(score_list, 10)\n",
    "    \n",
    "    ndcg10s.append(\n",
    "        ndcg_score(\n",
    "            np.expand_dims(d['labels'], axis=0),\n",
    "            np.expand_dims(d['preds'], axis=0),\n",
    "            k=10\n",
    "        )\n",
    "    )\n",
    "    \n",
    "    wig_norms.append(wig_norm)\n",
    "    wig_no_norms.append(wig_no_norm)\n",
    "    nqc_norms.append(nqc_norm)\n",
    "    nqc_no_norms.append(nqc_no_norm)\n",
    "    \n",
    "print(np.mean(ndcg10s))\n",
    "\n",
    "for metric in [wig_norms, wig_no_norms, nqc_norms, nqc_no_norms]:\n",
    "# for metric in [wig_no_norms, nqc_no_norms]:\n",
    "    \n",
    "    pearson_corr, _ = pearsonr(ndcg10s, metric)\n",
    "    kendall_corr, _ = kendalltau(ndcg10s, metric)\n",
    "    spearman_corr, _ = spearmanr(ndcg10s, metric)\n",
    "    \n",
    "    print(f\"Pearson's: {pearson_corr:.3f}; Kendall's: {kendall_corr:.3f}; Spearman's: {spearman_corr:.3f}\")"
   ]
  },
  {
   "cell_type": "code",
   "execution_count": 22,
   "id": "7efa8144-27ac-43d6-9575-8989f1fad44c",
   "metadata": {
    "tags": []
   },
   "outputs": [
    {
     "name": "stdout",
     "output_type": "stream",
     "text": [
      "0.24488353324209958\n",
      "Pearson's: -0.001; Kendall's: -0.012; Spearman's: -0.020\n",
      "Pearson's: 0.123; Kendall's: 0.044; Spearman's: 0.052\n",
      "Pearson's: -0.385; Kendall's: -0.242; Spearman's: -0.355\n",
      "Pearson's: -0.334; Kendall's: -0.210; Spearman's: -0.321\n"
     ]
    }
   ],
   "source": [
    "# FC\n",
    "\n",
    "with open(\"wandb/run-20240613_135557-6z0br05e/files/test_results_ep5.pkl\", 'rb') as fin:\n",
    "# with open(\"wandb/run-20240613_135557-za78loj0/files/test_results_ep8.pkl\", 'rb') as fin:\n",
    "    run = pickle.load(fin)\n",
    "    \n",
    "preds, labels, qids = run['predictions'], run['labels'], run['qids']\n",
    "dct = {}\n",
    "\n",
    "for p, l, q in zip(preds, labels, qids):\n",
    "    if q not in dct:\n",
    "        dct[q] = {\n",
    "            \"preds\": [],\n",
    "            \"labels\": []\n",
    "        }\n",
    "    dct[q]['preds'].append(p[0])\n",
    "    dct[q]['labels'].append(l[0])\n",
    "    \n",
    "ndcg10s = []\n",
    "wig_norms, wig_no_norms = [], []\n",
    "nqc_norms, nqc_no_norms = [], []\n",
    "\n",
    "for q, d in dct.items():\n",
    "    \n",
    "    qtokens = id2query[q].split()\n",
    "    score_list = sorted(d['preds'], reverse=True)\n",
    "    \n",
    "    wig_norm, wig_no_norm = WIG(qtokens, score_list, 10)\n",
    "    nqc_norm, nqc_no_norm = NQC(score_list, 10)\n",
    "    \n",
    "    ndcg10s.append(\n",
    "        ndcg_score(\n",
    "            np.expand_dims(d['labels'], axis=0),\n",
    "            np.expand_dims(d['preds'], axis=0),\n",
    "            k=10\n",
    "        )\n",
    "    )\n",
    "    \n",
    "    wig_norms.append(wig_norm)\n",
    "    wig_no_norms.append(wig_no_norm)\n",
    "    nqc_norms.append(nqc_norm)\n",
    "    nqc_no_norms.append(nqc_no_norm)\n",
    "    \n",
    "print(np.mean(ndcg10s))\n",
    "\n",
    "for metric in [wig_norms, wig_no_norms, nqc_norms, nqc_no_norms]:\n",
    "# for metric in [wig_no_norms, nqc_no_norms]:\n",
    "    \n",
    "    pearson_corr, _ = pearsonr(ndcg10s, metric)\n",
    "    kendall_corr, _ = kendalltau(ndcg10s, metric)\n",
    "    spearman_corr, _ = spearmanr(ndcg10s, metric)\n",
    "    \n",
    "    print(f\"Pearson's: {pearson_corr:.3f}; Kendall's: {kendall_corr:.3f}; Spearman's: {spearman_corr:.3f}\")"
   ]
  },
  {
   "cell_type": "code",
   "execution_count": 21,
   "id": "4c20487a-66b2-47df-a974-cb1c4004c8fa",
   "metadata": {
    "tags": []
   },
   "outputs": [
    {
     "name": "stdout",
     "output_type": "stream",
     "text": [
      "0.533821570498212\n",
      "Pearson's: 0.268; Kendall's: 0.165; Spearman's: 0.230\n",
      "Pearson's: 0.284; Kendall's: 0.143; Spearman's: 0.235\n",
      "Pearson's: 0.183; Kendall's: 0.146; Spearman's: 0.209\n",
      "Pearson's: 0.214; Kendall's: 0.152; Spearman's: 0.227\n"
     ]
    }
   ],
   "source": [
    "# conditional_explanation\n",
    "\n",
    "with open(\"wandb/run-20240613_135825-vjzfhrm4/files/test_results_ep4.pkl\", 'rb') as fin:\n",
    "    run = pickle.load(fin)\n",
    "    \n",
    "preds, labels, qids = run['predictions'], run['labels'], run['qids']\n",
    "dct = {}\n",
    "\n",
    "for p, l, q in zip(preds, labels, qids):\n",
    "    if q not in dct:\n",
    "        dct[q] = {\n",
    "            \"preds\": [],\n",
    "            \"labels\": []\n",
    "        }\n",
    "    dct[q]['preds'].append(p[0])\n",
    "    dct[q]['labels'].append(l[0])\n",
    "    \n",
    "ndcg10s = []\n",
    "wig_norms, wig_no_norms = [], []\n",
    "nqc_norms, nqc_no_norms = [], []\n",
    "\n",
    "for q, d in dct.items():\n",
    "    \n",
    "    qtokens = id2query[q].split()\n",
    "    score_list = sorted(d['preds'], reverse=True)\n",
    "    \n",
    "    wig_norm, wig_no_norm = WIG(qtokens, score_list, 10)\n",
    "    nqc_norm, nqc_no_norm = NQC(score_list, 10)\n",
    "    \n",
    "    ndcg10s.append(\n",
    "        ndcg_score(\n",
    "            np.expand_dims(d['labels'], axis=0),\n",
    "            np.expand_dims(d['preds'], axis=0),\n",
    "            k=10\n",
    "        )\n",
    "    )\n",
    "    \n",
    "    wig_norms.append(wig_norm)\n",
    "    wig_no_norms.append(wig_no_norm)\n",
    "    nqc_norms.append(nqc_norm)\n",
    "    nqc_no_norms.append(nqc_no_norm)\n",
    "    \n",
    "print(np.mean(ndcg10s))\n",
    "\n",
    "for metric in [wig_norms, wig_no_norms, nqc_norms, nqc_no_norms]:\n",
    "# for metric in [wig_no_norms, nqc_no_norms]:\n",
    "    \n",
    "    pearson_corr, _ = pearsonr(ndcg10s, metric)\n",
    "    kendall_corr, _ = kendalltau(ndcg10s, metric)\n",
    "    spearman_corr, _ = spearmanr(ndcg10s, metric)\n",
    "    \n",
    "    print(f\"Pearson's: {pearson_corr:.3f}; Kendall's: {kendall_corr:.3f}; Spearman's: {spearman_corr:.3f}\")"
   ]
  },
  {
   "cell_type": "code",
   "execution_count": 20,
   "id": "0f52ae4c-ea0e-4a49-8cbb-50f94264523a",
   "metadata": {
    "tags": []
   },
   "outputs": [
    {
     "name": "stdout",
     "output_type": "stream",
     "text": [
      "0.4935985754589764\n",
      "Pearson's: 0.176; Kendall's: 0.091; Spearman's: 0.144\n",
      "Pearson's: 0.213; Kendall's: 0.144; Spearman's: 0.213\n",
      "Pearson's: 0.003; Kendall's: -0.083; Spearman's: -0.113\n",
      "Pearson's: -0.171; Kendall's: -0.136; Spearman's: -0.197\n"
     ]
    }
   ],
   "source": [
    "# NC (no calibration)\n",
    "\n",
    "dct = {}\n",
    "\n",
    "with open('processed_data/merged_trec.jsonl', 'r') as file:\n",
    "    # Iterate over each line\n",
    "    for line in file:\n",
    "        # Convert line to JSON\n",
    "        data = json.loads(line)\n",
    "        qid, label, score = data['qid'], data['label'], data['bert_score']\n",
    "        if qid in test_qids:\n",
    "            if qid not in dct:\n",
    "                dct[qid] = {\n",
    "                    \"preds\": [],\n",
    "                    \"labels\": []\n",
    "                }\n",
    "            dct[qid]['preds'].append(score)\n",
    "            dct[qid]['labels'].append(label)\n",
    "    \n",
    "ndcg10s = []\n",
    "wig_norms, wig_no_norms = [], []\n",
    "nqc_norms, nqc_no_norms = [], []\n",
    "\n",
    "for q, d in dct.items():\n",
    "    \n",
    "    qtokens = id2query[q].split()\n",
    "    score_list = sorted(d['preds'], reverse=True)\n",
    "    \n",
    "    wig_norm, wig_no_norm = WIG(qtokens, score_list, 10)\n",
    "    nqc_norm, nqc_no_norm = NQC(score_list, 10)\n",
    "    \n",
    "    ndcg10s.append(\n",
    "        ndcg_score(\n",
    "            np.expand_dims(d['labels'], axis=0),\n",
    "            np.expand_dims(d['preds'], axis=0),\n",
    "            k=10\n",
    "        )\n",
    "    )\n",
    "    \n",
    "    wig_norms.append(wig_norm)\n",
    "    wig_no_norms.append(wig_no_norm)\n",
    "    nqc_norms.append(nqc_norm)\n",
    "    nqc_no_norms.append(nqc_no_norm)\n",
    "    \n",
    "print(np.mean(ndcg10s))\n",
    "\n",
    "for metric in [wig_norms, wig_no_norms, nqc_norms, nqc_no_norms]:\n",
    "# for metric in [wig_no_norms, nqc_no_norms]:\n",
    "    \n",
    "    pearson_corr, _ = pearsonr(ndcg10s, metric)\n",
    "    kendall_corr, _ = kendalltau(ndcg10s, metric)\n",
    "    spearman_corr, _ = spearmanr(ndcg10s, metric)\n",
    "    \n",
    "    print(f\"Pearson's: {pearson_corr:.3f}; Kendall's: {kendall_corr:.3f}; Spearman's: {spearman_corr:.3f}\")"
   ]
  },
  {
   "cell_type": "code",
   "execution_count": 23,
   "id": "901a4200-3c2f-459e-b556-36058836e59d",
   "metadata": {
    "tags": []
   },
   "outputs": [
    {
     "name": "stdout",
     "output_type": "stream",
     "text": [
      "0.4935985754589764\n",
      "Pearson's: 0.198; Kendall's: 0.113; Spearman's: 0.175\n",
      "Pearson's: 0.226; Kendall's: 0.158; Spearman's: 0.228\n",
      "Pearson's: -0.173; Kendall's: -0.123; Spearman's: -0.166\n",
      "Pearson's: -0.206; Kendall's: -0.139; Spearman's: -0.197\n"
     ]
    }
   ],
   "source": [
    "# PC\n",
    "\n",
    "with open(\"wandb/run-20240613_165246-8rfhmmpa/files/test_results_ep10.pkl\", 'rb') as fin:\n",
    "    run = pickle.load(fin)\n",
    "    \n",
    "preds, labels, qids = run['predictions'], run['labels'], run['qids']\n",
    "dct = {}\n",
    "\n",
    "for p, l, q in zip(preds, labels, qids):\n",
    "    if q not in dct:\n",
    "        dct[q] = {\n",
    "            \"preds\": [],\n",
    "            \"labels\": []\n",
    "        }\n",
    "    dct[q]['preds'].append(p[0])\n",
    "    dct[q]['labels'].append(l[0])\n",
    "    \n",
    "ndcg10s = []\n",
    "wig_norms, wig_no_norms = [], []\n",
    "nqc_norms, nqc_no_norms = [], []\n",
    "\n",
    "for q, d in dct.items():\n",
    "    \n",
    "    qtokens = id2query[q].split()\n",
    "    score_list = sorted(d['preds'], reverse=True)\n",
    "    \n",
    "    wig_norm, wig_no_norm = WIG(qtokens, score_list, 10)\n",
    "    nqc_norm, nqc_no_norm = NQC(score_list, 10)\n",
    "    \n",
    "    ndcg10s.append(\n",
    "        ndcg_score(\n",
    "            np.expand_dims(d['labels'], axis=0),\n",
    "            np.expand_dims(d['preds'], axis=0),\n",
    "            k=10\n",
    "        )\n",
    "    )\n",
    "    \n",
    "    wig_norms.append(wig_norm)\n",
    "    wig_no_norms.append(wig_no_norm)\n",
    "    nqc_norms.append(nqc_norm)\n",
    "    nqc_no_norms.append(nqc_no_norm)\n",
    "    \n",
    "print(np.mean(ndcg10s))\n",
    "\n",
    "for metric in [wig_norms, wig_no_norms, nqc_norms, nqc_no_norms]:\n",
    "# for metric in [wig_no_norms, nqc_no_norms]:\n",
    "    \n",
    "    pearson_corr, _ = pearsonr(ndcg10s, metric)\n",
    "    kendall_corr, _ = kendalltau(ndcg10s, metric)\n",
    "    spearman_corr, _ = spearmanr(ndcg10s, metric)\n",
    "    \n",
    "    print(f\"Pearson's: {pearson_corr:.3f}; Kendall's: {kendall_corr:.3f}; Spearman's: {spearman_corr:.3f}\")"
   ]
  },
  {
   "cell_type": "code",
   "execution_count": null,
   "id": "6636a227-787a-4d5b-815a-07884b050118",
   "metadata": {},
   "outputs": [],
   "source": []
  }
 ],
 "metadata": {
  "kernelspec": {
   "display_name": "Python 3 (ipykernel)",
   "language": "python",
   "name": "python3"
  },
  "language_info": {
   "codemirror_mode": {
    "name": "ipython",
    "version": 3
   },
   "file_extension": ".py",
   "mimetype": "text/x-python",
   "name": "python",
   "nbconvert_exporter": "python",
   "pygments_lexer": "ipython3",
   "version": "3.9.16"
  }
 },
 "nbformat": 4,
 "nbformat_minor": 5
}
