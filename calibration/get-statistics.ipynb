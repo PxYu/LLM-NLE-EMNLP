{
 "cells": [
  {
   "cell_type": "code",
   "execution_count": 1,
   "id": "8def0213-60f6-4904-b2fd-cff7a69f06d0",
   "metadata": {},
   "outputs": [],
   "source": [
    "from transformers import BertTokenizer\n",
    "\n",
    "def average_token_length(strings, model_name='bert-base-uncased'):\n",
    "    # Initialize the BERT tokenizer\n",
    "    tokenizer = BertTokenizer.from_pretrained(model_name)\n",
    "\n",
    "    # Tokenize each string and count the number of tokens\n",
    "    total_tokens = 0\n",
    "    for string in strings:\n",
    "        tokens = tokenizer.tokenize(string)\n",
    "        total_tokens += len(tokens)\n",
    "\n",
    "    # Calculate the average length in tokens\n",
    "    average_length = total_tokens / len(strings) if strings else 0\n",
    "\n",
    "    return average_length"
   ]
  },
  {
   "cell_type": "code",
   "execution_count": 3,
   "id": "e53e8be0-829b-481c-93a0-cfad30565729",
   "metadata": {},
   "outputs": [],
   "source": [
    "import json\n",
    "\n",
    "all_data = []\n",
    "\n",
    "with open(f\"../pygaggle/calibration-exp/explanation-data/raw_inputs_trec.jsonl\", \"r\") as file:\n",
    "    for line in file:\n",
    "        item = json.loads(line)\n",
    "        all_data.append(item)"
   ]
  },
  {
   "cell_type": "code",
   "execution_count": 4,
   "id": "0fb68e85-86e9-4e84-8ef2-2e22c240960a",
   "metadata": {},
   "outputs": [
    {
     "name": "stdout",
     "output_type": "stream",
     "text": [
      "7.9535118746841835\n",
      "70.93284324112862\n"
     ]
    }
   ],
   "source": [
    "all_queries = [x[\"query_text\"] for x in all_data]\n",
    "all_docs = [x[\"document_text\"] for x in all_data]\n",
    "print(average_token_length(all_queries, model_name='bert-base-uncased'))\n",
    "print(average_token_length(all_docs, model_name='bert-base-uncased'))"
   ]
  },
  {
   "cell_type": "code",
   "execution_count": 5,
   "id": "84db6fe7-4162-4d14-bfd6-578cbc4d8288",
   "metadata": {},
   "outputs": [
    {
     "name": "stdout",
     "output_type": "stream",
     "text": [
      "21.97509682556919\n",
      "493.245194918015\n"
     ]
    }
   ],
   "source": [
    "all_data = []\n",
    "\n",
    "with open(f\"../pygaggle/calibration-exp/explanation-data/raw_inputs_clueweb.jsonl\", \"r\") as file:\n",
    "    for line in file:\n",
    "        item = json.loads(line)\n",
    "        all_data.append(item)\n",
    "\n",
    "all_queries = [x[\"query_text\"] for x in all_data]\n",
    "all_docs = [x[\"document_text\"] for x in all_data]\n",
    "print(average_token_length(all_queries, model_name='bert-base-uncased'))\n",
    "print(average_token_length(all_docs, model_name='bert-base-uncased'))"
   ]
  },
  {
   "cell_type": "code",
   "execution_count": null,
   "id": "5271d824-4701-4681-a8d5-79e31ae110ab",
   "metadata": {},
   "outputs": [],
   "source": []
  }
 ],
 "metadata": {
  "kernelspec": {
   "display_name": "Python 3 (ipykernel)",
   "language": "python",
   "name": "python3"
  },
  "language_info": {
   "codemirror_mode": {
    "name": "ipython",
    "version": 3
   },
   "file_extension": ".py",
   "mimetype": "text/x-python",
   "name": "python",
   "nbconvert_exporter": "python",
   "pygments_lexer": "ipython3",
   "version": "3.9.18"
  }
 },
 "nbformat": 4,
 "nbformat_minor": 5
}
